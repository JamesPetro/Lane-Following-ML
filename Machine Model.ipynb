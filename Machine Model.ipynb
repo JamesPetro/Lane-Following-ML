{
 "cells": [
  {
   "cell_type": "markdown",
   "id": "129ce0bd",
   "metadata": {},
   "source": [
    "Open and view H5 file"
   ]
  },
  {
   "cell_type": "code",
   "execution_count": null,
   "id": "c0a89d47",
   "metadata": {},
   "outputs": [],
   "source": [
    "import h5py\n",
    "import numpy as np\n",
    "import matplotlib.pyplot as plt\n",
    "import sys\n",
    "# print(sys.executable)\n",
    "# print(np.__version__)\n",
    "# import tensorflow as tf\n",
    "# print(tf.__file__)"
   ]
  },
  {
   "cell_type": "code",
   "execution_count": null,
   "id": "09dccf45",
   "metadata": {
    "scrolled": true
   },
   "outputs": [],
   "source": [
    "file_path = r\"C:\\Users\\19jwp7\\Documents\\LF ML\\Lane-Following-ML-main\\QCarData.h5\"\n",
    "\n",
    "with h5py.File(file_path, 'r') as hf:\n",
    "    # print(\"Datasets in the file:\")\n",
    "    # for dataset_name in hf:\n",
    "    #     print(f\" - {dataset_name}\")\n",
    "\n",
    "    images = hf[\"Binary_Image\"][:]\n",
    "    throttle = hf[\"Throttle\"][:]\n",
    "    steering = hf[\"Steering\"][:]\n",
    "\n",
    "    newImages = []\n",
    "    for image in images:\n",
    "        expanded = np.expand_dims(image, axis = -1)\n",
    "        newImages.append(expanded)\n",
    "        \n",
    "    newImages = np.array(newImages)\n",
    "    \n",
    "    throttle = np.array(throttle)\n",
    "    steering = np.array(steering)\n",
    "    \n",
    "    labels = np.column_stack((throttle, steering))\n",
    "\n",
    "    # print(\"\\nImages dataset (shape):\", images.shape)\n",
    "    # print(\"\\nThrottle dataset (shape):\", throttle.shape)\n",
    "    # print(\"\\nSteering dataset (shape):\", steering.shape)\n",
    "    \n",
    "    # plt.imshow(newImages[0])"
   ]
  },
  {
   "cell_type": "markdown",
   "id": "0c7d8b0c",
   "metadata": {},
   "source": [
    "Machine Learning Model Below"
   ]
  },
  {
   "cell_type": "code",
   "execution_count": null,
   "id": "1c51cf91",
   "metadata": {
    "scrolled": false
   },
   "outputs": [],
   "source": [
    "from tensorflow.keras.models import Sequential\n",
    "from tensorflow.keras.layers import Conv2D, MaxPooling2D, Flatten, Dense, Dropout\n",
    "from tensorflow.keras.models import load_model\n",
    "from tensorflow.keras.losses import MeanSquaredError\n",
    "from tensorflow import keras\n",
    "from sklearn.model_selection import train_test_split"
   ]
  },
  {
   "cell_type": "code",
   "execution_count": null,
   "id": "6597028d",
   "metadata": {},
   "outputs": [],
   "source": [
    "X_train, X_test, y_train, y_test = train_test_split(newImages, labels, test_size=0.2, random_state=42)"
   ]
  },
  {
   "cell_type": "code",
   "execution_count": null,
   "id": "1a5634f7",
   "metadata": {},
   "outputs": [],
   "source": [
    "model = Sequential([\n",
    "    # Convolutional layers to process images\n",
    "    Conv2D(32, (3, 3), activation='relu', input_shape = (224, 224, 1)),  # Use your image shape here\n",
    "    MaxPooling2D((2, 2)),\n",
    "    Conv2D(64, (3, 3), activation='relu'),\n",
    "    MaxPooling2D((2, 2)),\n",
    "    Conv2D(128, (3, 3), activation='relu'),\n",
    "    MaxPooling2D((2, 2)),\n",
    "    Flatten(),\n",
    "    \n",
    "    # Fully connected layers for decision making\n",
    "    Dense(128, activation='relu'),\n",
    "    Dropout(0.5),\n",
    "    Dense(64, activation='relu'),\n",
    "    Dense(2)  # Outputs: throttle and steering\n",
    "])\n",
    "\n",
    "model.compile(optimizer='adam', loss=MeanSquaredError())"
   ]
  },
  {
   "cell_type": "code",
   "execution_count": null,
   "id": "9d68bde1",
   "metadata": {},
   "outputs": [],
   "source": [
    "# history = model.fit(newImages, labels, epochs=10, batch_size=32, validation_split=0.2)\n",
    "history = model.fit(X_train, y_train, epochs=10, batch_size=32, validation_data=(X_test, y_test))\n",
    "\n",
    "test_loss = model.evaluate(X_test, y_test)\n",
    "print(f'Test Loss: {test_loss}')"
   ]
  },
  {
   "cell_type": "code",
   "execution_count": null,
   "id": "689fb30a",
   "metadata": {},
   "outputs": [],
   "source": [
    "# model.save(\"LFML.h5\")\n",
    "model.save(\"LFML.keras\")"
   ]
  },
  {
   "cell_type": "code",
   "execution_count": null,
   "id": "e7328892",
   "metadata": {},
   "outputs": [],
   "source": [
    "\n",
    "# model = load_model(\"LFML.h5\", custom_objects={'MeanSquaredError': MeanSquaredError})\n",
    "model = load_model(\"LFML.keras\")"
   ]
  }
 ],
 "metadata": {
  "kernelspec": {
   "display_name": "Python 3",
   "language": "python",
   "name": "python3"
  },
  "language_info": {
   "codemirror_mode": {
    "name": "ipython",
    "version": 3
   },
   "file_extension": ".py",
   "mimetype": "text/x-python",
   "name": "python",
   "nbconvert_exporter": "python",
   "pygments_lexer": "ipython3",
   "version": "3.11.0"
  }
 },
 "nbformat": 4,
 "nbformat_minor": 5
}
